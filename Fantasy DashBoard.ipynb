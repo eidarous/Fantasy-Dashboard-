{
 "cells": [
  {
   "cell_type": "code",
   "execution_count": null,
   "metadata": {},
   "outputs": [],
   "source": [
    "%config Completer.use_jedi = False"
   ]
  },
  {
   "cell_type": "code",
   "execution_count": 2,
   "metadata": {},
   "outputs": [],
   "source": [
    "import dash\n",
    "from jupyter_dash import JupyterDash\n",
    "\n",
    "from dash import html\n",
    "from dash import dcc\n",
    "\n",
    "from logging import PlaceHolder\n",
    "from dash.dependencies import Input, Output, State\n",
    "\n",
    "import plotly.express as px\n",
    "import pandas as pd\n",
    "\n",
    "import os\n",
    "import warnings"
   ]
  },
  {
   "cell_type": "code",
   "execution_count": 3,
   "metadata": {},
   "outputs": [],
   "source": [
    "app = JupyterDash(external_stylesheets = ['https://codepen.io/chriddyp/pen/bWLwgP.css'])"
   ]
  },
  {
   "cell_type": "markdown",
   "metadata": {
    "papermill": {
     "duration": 0.0546,
     "end_time": "2021-09-11T03:07:20.008126",
     "exception": false,
     "start_time": "2021-09-11T03:07:19.953526",
     "status": "completed"
    },
    "tags": []
   },
   "source": [
    "# Load and Clean the Dataset"
   ]
  },
  {
   "cell_type": "markdown",
   "metadata": {},
   "source": [
    "## Players Data"
   ]
  },
  {
   "cell_type": "code",
   "execution_count": 4,
   "metadata": {},
   "outputs": [],
   "source": [
    "#Reading Cleaned players Dataset \n",
    "cleaned_merged_seasons = pd.read_csv('./Data/cleaned_merged_seasons.csv',low_memory=False)"
   ]
  },
  {
   "cell_type": "code",
   "execution_count": 5,
   "metadata": {},
   "outputs": [
    {
     "data": {
      "text/html": [
       "<div>\n",
       "<style scoped>\n",
       "    .dataframe tbody tr th:only-of-type {\n",
       "        vertical-align: middle;\n",
       "    }\n",
       "\n",
       "    .dataframe tbody tr th {\n",
       "        vertical-align: top;\n",
       "    }\n",
       "\n",
       "    .dataframe thead th {\n",
       "        text-align: right;\n",
       "    }\n",
       "</style>\n",
       "<table border=\"1\" class=\"dataframe\">\n",
       "  <thead>\n",
       "    <tr style=\"text-align: right;\">\n",
       "      <th></th>\n",
       "      <th>Unnamed: 0</th>\n",
       "      <th>season_x</th>\n",
       "      <th>name</th>\n",
       "      <th>position</th>\n",
       "      <th>team_x</th>\n",
       "      <th>assists</th>\n",
       "      <th>bonus</th>\n",
       "      <th>bps</th>\n",
       "      <th>clean_sheets</th>\n",
       "      <th>creativity</th>\n",
       "      <th>...</th>\n",
       "      <th>team_h_score</th>\n",
       "      <th>threat</th>\n",
       "      <th>total_points</th>\n",
       "      <th>transfers_balance</th>\n",
       "      <th>transfers_in</th>\n",
       "      <th>transfers_out</th>\n",
       "      <th>value</th>\n",
       "      <th>was_home</th>\n",
       "      <th>yellow_cards</th>\n",
       "      <th>GW</th>\n",
       "    </tr>\n",
       "  </thead>\n",
       "  <tbody>\n",
       "    <tr>\n",
       "      <th>0</th>\n",
       "      <td>0</td>\n",
       "      <td>2016-17</td>\n",
       "      <td>Aaron Cresswell</td>\n",
       "      <td>DEF</td>\n",
       "      <td>NaN</td>\n",
       "      <td>0</td>\n",
       "      <td>0</td>\n",
       "      <td>0</td>\n",
       "      <td>0</td>\n",
       "      <td>0.0</td>\n",
       "      <td>...</td>\n",
       "      <td>2.0</td>\n",
       "      <td>0.0</td>\n",
       "      <td>0</td>\n",
       "      <td>0</td>\n",
       "      <td>0</td>\n",
       "      <td>0</td>\n",
       "      <td>55</td>\n",
       "      <td>False</td>\n",
       "      <td>0</td>\n",
       "      <td>1</td>\n",
       "    </tr>\n",
       "    <tr>\n",
       "      <th>1</th>\n",
       "      <td>1</td>\n",
       "      <td>2016-17</td>\n",
       "      <td>Abdoulaye Doucouré</td>\n",
       "      <td>MID</td>\n",
       "      <td>NaN</td>\n",
       "      <td>0</td>\n",
       "      <td>0</td>\n",
       "      <td>0</td>\n",
       "      <td>0</td>\n",
       "      <td>0.0</td>\n",
       "      <td>...</td>\n",
       "      <td>1.0</td>\n",
       "      <td>0.0</td>\n",
       "      <td>0</td>\n",
       "      <td>0</td>\n",
       "      <td>0</td>\n",
       "      <td>0</td>\n",
       "      <td>50</td>\n",
       "      <td>False</td>\n",
       "      <td>0</td>\n",
       "      <td>1</td>\n",
       "    </tr>\n",
       "    <tr>\n",
       "      <th>2</th>\n",
       "      <td>2</td>\n",
       "      <td>2016-17</td>\n",
       "      <td>Adam Forshaw</td>\n",
       "      <td>MID</td>\n",
       "      <td>NaN</td>\n",
       "      <td>0</td>\n",
       "      <td>0</td>\n",
       "      <td>3</td>\n",
       "      <td>0</td>\n",
       "      <td>1.3</td>\n",
       "      <td>...</td>\n",
       "      <td>1.0</td>\n",
       "      <td>0.0</td>\n",
       "      <td>1</td>\n",
       "      <td>0</td>\n",
       "      <td>0</td>\n",
       "      <td>0</td>\n",
       "      <td>45</td>\n",
       "      <td>True</td>\n",
       "      <td>1</td>\n",
       "      <td>1</td>\n",
       "    </tr>\n",
       "  </tbody>\n",
       "</table>\n",
       "<p>3 rows × 38 columns</p>\n",
       "</div>"
      ],
      "text/plain": [
       "   Unnamed: 0 season_x                name position team_x  assists  bonus  \\\n",
       "0           0  2016-17     Aaron Cresswell      DEF    NaN        0      0   \n",
       "1           1  2016-17  Abdoulaye Doucouré      MID    NaN        0      0   \n",
       "2           2  2016-17        Adam Forshaw      MID    NaN        0      0   \n",
       "\n",
       "   bps  clean_sheets  creativity  ...  team_h_score  threat  total_points  \\\n",
       "0    0             0         0.0  ...           2.0     0.0             0   \n",
       "1    0             0         0.0  ...           1.0     0.0             0   \n",
       "2    3             0         1.3  ...           1.0     0.0             1   \n",
       "\n",
       "   transfers_balance  transfers_in  transfers_out value  was_home  \\\n",
       "0                  0             0              0    55     False   \n",
       "1                  0             0              0    50     False   \n",
       "2                  0             0              0    45      True   \n",
       "\n",
       "   yellow_cards GW  \n",
       "0             0  1  \n",
       "1             0  1  \n",
       "2             1  1  \n",
       "\n",
       "[3 rows x 38 columns]"
      ]
     },
     "execution_count": 5,
     "metadata": {},
     "output_type": "execute_result"
    }
   ],
   "source": [
    "cleaned_merged_seasons.head(3)"
   ]
  },
  {
   "cell_type": "code",
   "execution_count": 6,
   "metadata": {},
   "outputs": [],
   "source": [
    "cleaned_merged_seasons[\"was_home\"].replace({True: \"Home\", False: \"Away\"}, inplace=True)"
   ]
  },
  {
   "cell_type": "code",
   "execution_count": 7,
   "metadata": {},
   "outputs": [],
   "source": [
    "season=cleaned_merged_seasons.season_x.unique()\n",
    "players=cleaned_merged_seasons.name.unique()"
   ]
  },
  {
   "cell_type": "markdown",
   "metadata": {},
   "source": [
    "## Teams Data"
   ]
  },
  {
   "cell_type": "code",
   "execution_count": 8,
   "metadata": {},
   "outputs": [],
   "source": [
    "needed_columns = ['Season', 'Team', 'h_a', 'scored','missed',\n",
    "                  'pts', 'wins', 'draws', 'loses', 'result']"
   ]
  },
  {
   "cell_type": "code",
   "execution_count": 9,
   "metadata": {},
   "outputs": [],
   "source": [
    "df_2019_2020 = []\n",
    "for dirname, _, filenames in os.walk('./Data/2019-20/'):\n",
    "    for filename in filenames:\n",
    "        df_2019_2020.append(pd.read_csv(os.path.join(dirname, filename)))"
   ]
  },
  {
   "cell_type": "code",
   "execution_count": 10,
   "metadata": {},
   "outputs": [],
   "source": [
    "df_2020_2021 = []\n",
    "for dirname, _, filenames in os.walk('./Data/2020-21/'):\n",
    "    for filename in filenames:\n",
    "        df_2020_2021.append(pd.read_csv(os.path.join(dirname, filename)))"
   ]
  },
  {
   "cell_type": "code",
   "execution_count": 11,
   "metadata": {},
   "outputs": [],
   "source": [
    "df_2021_2022 = []\n",
    "for dirname, _, filenames in os.walk('./Data/2021-22/'):\n",
    "    for filename in filenames:\n",
    "        df_2021_2022.append(pd.read_csv(os.path.join(dirname, filename)))"
   ]
  },
  {
   "cell_type": "code",
   "execution_count": 12,
   "metadata": {},
   "outputs": [],
   "source": [
    "df_2019_2020 = pd.concat(df_2019_2020, ignore_index=True)"
   ]
  },
  {
   "cell_type": "code",
   "execution_count": 13,
   "metadata": {},
   "outputs": [],
   "source": [
    "df_2020_2021 = pd.concat(df_2020_2021, ignore_index=True)"
   ]
  },
  {
   "cell_type": "code",
   "execution_count": 14,
   "metadata": {},
   "outputs": [],
   "source": [
    "df_2021_2022 = pd.concat(df_2021_2022, ignore_index=True)"
   ]
  },
  {
   "cell_type": "code",
   "execution_count": 15,
   "metadata": {},
   "outputs": [],
   "source": [
    "df_2019_2020['Season'] = '2019-2020'\n",
    "df_2020_2021['Season'] = '2020-2021'\n",
    "df_2021_2022['Season'] = '2021-2022'"
   ]
  },
  {
   "cell_type": "code",
   "execution_count": 16,
   "metadata": {},
   "outputs": [],
   "source": [
    "all_season = pd.concat([df_2019_2020, df_2020_2021, df_2021_2022], ignore_index=True)"
   ]
  },
  {
   "cell_type": "code",
   "execution_count": 17,
   "metadata": {},
   "outputs": [],
   "source": [
    "all_season = all_season[needed_columns]"
   ]
  },
  {
   "cell_type": "code",
   "execution_count": 18,
   "metadata": {
    "papermill": {
     "duration": 0.06953,
     "end_time": "2021-09-11T03:07:20.399344",
     "exception": false,
     "start_time": "2021-09-11T03:07:20.329814",
     "status": "completed"
    },
    "tags": []
   },
   "outputs": [],
   "source": [
    "warnings.filterwarnings(\"ignore\")"
   ]
  },
  {
   "cell_type": "markdown",
   "metadata": {
    "papermill": {
     "duration": 0.056283,
     "end_time": "2021-09-11T03:07:21.127213",
     "exception": false,
     "start_time": "2021-09-11T03:07:21.070930",
     "status": "completed"
    },
    "tags": []
   },
   "source": [
    "**Convert h_a and result columns**"
   ]
  },
  {
   "cell_type": "code",
   "execution_count": 19,
   "metadata": {},
   "outputs": [],
   "source": [
    "h_a_dic = {'h': 'Home', 'a': 'Away'}\n",
    "result_dic = {'w': 'Win', 'l': 'Loss', 'd': 'Draw'}"
   ]
  },
  {
   "cell_type": "code",
   "execution_count": 20,
   "metadata": {},
   "outputs": [],
   "source": [
    "all_season['h_a'] = all_season['h_a'].map(h_a_dic)\n",
    "all_season['result'] = all_season['result'].map(result_dic)"
   ]
  },
  {
   "cell_type": "code",
   "execution_count": 21,
   "metadata": {},
   "outputs": [],
   "source": [
    "all_season.columns = ['Season', 'Team', 'Home_Away', 'scored','Conceded',\n",
    "                      'pts', 'wins', 'draws', 'loses', 'result']"
   ]
  },
  {
   "cell_type": "markdown",
   "metadata": {
    "papermill": {
     "duration": 0.057418,
     "end_time": "2021-09-11T03:07:22.002954",
     "exception": false,
     "start_time": "2021-09-11T03:07:21.945536",
     "status": "completed"
    },
    "tags": []
   },
   "source": [
    "**Numerical and Categorical Columns**"
   ]
  },
  {
   "cell_type": "code",
   "execution_count": 22,
   "metadata": {
    "papermill": {
     "duration": 0.070058,
     "end_time": "2021-09-11T03:07:22.130369",
     "exception": false,
     "start_time": "2021-09-11T03:07:22.060311",
     "status": "completed"
    },
    "tags": []
   },
   "outputs": [
    {
     "name": "stdout",
     "output_type": "stream",
     "text": [
      "Numerical Columns:\n",
      "['scored', 'Conceded', 'pts', 'wins', 'draws', 'loses']\n",
      "\n",
      "Categorical Columns:\n",
      "['Season', 'Team', 'Home_Away']\n",
      "\n"
     ]
    }
   ],
   "source": [
    "# Select numerical columns\n",
    "num_cols = [cname for cname in all_season.columns \n",
    "            if all_season[cname].dtype in ['int64', 'float64']]\n",
    "\n",
    "cat_cols = list(set(all_season.columns) - set(num_cols) - {'result'})\n",
    "\n",
    "print(\"Numerical Columns:\", num_cols, '', sep='\\n')\n",
    "print(\"Categorical Columns:\", cat_cols, '', sep='\\n')"
   ]
  },
  {
   "cell_type": "code",
   "execution_count": 23,
   "metadata": {},
   "outputs": [
    {
     "data": {
      "text/html": [
       "<div>\n",
       "<style scoped>\n",
       "    .dataframe tbody tr th:only-of-type {\n",
       "        vertical-align: middle;\n",
       "    }\n",
       "\n",
       "    .dataframe tbody tr th {\n",
       "        vertical-align: top;\n",
       "    }\n",
       "\n",
       "    .dataframe thead th {\n",
       "        text-align: right;\n",
       "    }\n",
       "</style>\n",
       "<table border=\"1\" class=\"dataframe\">\n",
       "  <thead>\n",
       "    <tr style=\"text-align: right;\">\n",
       "      <th></th>\n",
       "      <th>Season</th>\n",
       "      <th>Team</th>\n",
       "      <th>Home_Away</th>\n",
       "      <th>scored</th>\n",
       "      <th>Conceded</th>\n",
       "      <th>pts</th>\n",
       "      <th>wins</th>\n",
       "      <th>draws</th>\n",
       "      <th>loses</th>\n",
       "      <th>result</th>\n",
       "    </tr>\n",
       "  </thead>\n",
       "  <tbody>\n",
       "    <tr>\n",
       "      <th>0</th>\n",
       "      <td>2019-2020</td>\n",
       "      <td>Arsenal</td>\n",
       "      <td>Away</td>\n",
       "      <td>1</td>\n",
       "      <td>0</td>\n",
       "      <td>3</td>\n",
       "      <td>1</td>\n",
       "      <td>0</td>\n",
       "      <td>0</td>\n",
       "      <td>Win</td>\n",
       "    </tr>\n",
       "    <tr>\n",
       "      <th>1</th>\n",
       "      <td>2019-2020</td>\n",
       "      <td>Arsenal</td>\n",
       "      <td>Home</td>\n",
       "      <td>2</td>\n",
       "      <td>1</td>\n",
       "      <td>3</td>\n",
       "      <td>1</td>\n",
       "      <td>0</td>\n",
       "      <td>0</td>\n",
       "      <td>Win</td>\n",
       "    </tr>\n",
       "    <tr>\n",
       "      <th>2</th>\n",
       "      <td>2019-2020</td>\n",
       "      <td>Arsenal</td>\n",
       "      <td>Away</td>\n",
       "      <td>1</td>\n",
       "      <td>3</td>\n",
       "      <td>0</td>\n",
       "      <td>0</td>\n",
       "      <td>0</td>\n",
       "      <td>1</td>\n",
       "      <td>Loss</td>\n",
       "    </tr>\n",
       "    <tr>\n",
       "      <th>3</th>\n",
       "      <td>2019-2020</td>\n",
       "      <td>Arsenal</td>\n",
       "      <td>Home</td>\n",
       "      <td>2</td>\n",
       "      <td>2</td>\n",
       "      <td>1</td>\n",
       "      <td>0</td>\n",
       "      <td>1</td>\n",
       "      <td>0</td>\n",
       "      <td>Draw</td>\n",
       "    </tr>\n",
       "    <tr>\n",
       "      <th>4</th>\n",
       "      <td>2019-2020</td>\n",
       "      <td>Arsenal</td>\n",
       "      <td>Away</td>\n",
       "      <td>2</td>\n",
       "      <td>2</td>\n",
       "      <td>1</td>\n",
       "      <td>0</td>\n",
       "      <td>1</td>\n",
       "      <td>0</td>\n",
       "      <td>Draw</td>\n",
       "    </tr>\n",
       "  </tbody>\n",
       "</table>\n",
       "</div>"
      ],
      "text/plain": [
       "      Season     Team Home_Away  scored  Conceded  pts  wins  draws  loses  \\\n",
       "0  2019-2020  Arsenal      Away       1         0    3     1      0      0   \n",
       "1  2019-2020  Arsenal      Home       2         1    3     1      0      0   \n",
       "2  2019-2020  Arsenal      Away       1         3    0     0      0      1   \n",
       "3  2019-2020  Arsenal      Home       2         2    1     0      1      0   \n",
       "4  2019-2020  Arsenal      Away       2         2    1     0      1      0   \n",
       "\n",
       "  result  \n",
       "0    Win  \n",
       "1    Win  \n",
       "2   Loss  \n",
       "3   Draw  \n",
       "4   Draw  "
      ]
     },
     "execution_count": 23,
     "metadata": {},
     "output_type": "execute_result"
    }
   ],
   "source": [
    "all_season.head()"
   ]
  },
  {
   "cell_type": "code",
   "execution_count": 24,
   "metadata": {},
   "outputs": [],
   "source": [
    "Seasons = list(all_season['Season'].unique())\n",
    "Teams = list(all_season['Team'].unique())"
   ]
  },
  {
   "cell_type": "markdown",
   "metadata": {},
   "source": [
    "# Dash App Layout"
   ]
  },
  {
   "cell_type": "code",
   "execution_count": 25,
   "metadata": {},
   "outputs": [],
   "source": [
    "colors = {\n",
    "    'background': '#37003c',\n",
    "    'sec_background':'#02884e',\n",
    "    'text': '#fff'\n",
    "}"
   ]
  },
  {
   "cell_type": "code",
   "execution_count": 26,
   "metadata": {},
   "outputs": [],
   "source": [
    "app.layout = html.Div(children=[\n",
    "    #Header Items\n",
    "    html.H1('Fantasy Premier League Visualization',\n",
    "            style={'font_family': 'Helvetica Neue','color': colors['text'],'backgroundColor': colors['background']\n",
    "                   ,'textAlign':'center'}),\n",
    "    html.Img(src=app.get_asset_url('wide_logo.png'), style={'height':'25%', 'width':'25%'}),\n",
    "    html.Br(), # New line\n",
    "    \n",
    "    #Players performace items\n",
    "    html.H2('Players Performance',\n",
    "            style={'width': '30%','height': '20%','border':'1px solid', 'border-radius': 10\n",
    "                   ,'color': colors['text'],'backgroundColor': colors['sec_background']\n",
    "                   ,'textAlign':'center','display': 'inline-block'}),\n",
    "    html.Div([\n",
    "        html.Div([\n",
    "            html.Pre(children=\"Select Player\", style={\"fontSize\":\"150%\"}),\n",
    "            dcc.Dropdown(\n",
    "                    id=\"dropdown\",\n",
    "                    options=[{\"label\": x, \"value\": x} for x in players],\n",
    "                    value='Mohamed Salah',\n",
    "                    clearable=False,\n",
    "                    )\n",
    "                ], className='six columns'),\n",
    "\n",
    "        html.Div([\n",
    "            html.Pre(children=\"Select Season\", style={\"fontSize\": \"150%\"}),\n",
    "            dcc.Dropdown(\n",
    "                    id=\"dropdown2\",\n",
    "                    options=[{\"label\": x, \"value\": x} for x in season],\n",
    "                    value=season[-1],\n",
    "                    clearable=False,\n",
    "                    )\n",
    "                ], className='six columns'),\n",
    "    ], className='row'),\n",
    "    dcc.Graph(id=\"bar-chart\", figure={}),\n",
    "    html.Br(), # New line\n",
    "    \n",
    "    #Teams performace items\n",
    "    html.H2('Teams Performance',style={'width': '30%','height': '20%','border':'1px solid', 'border-radius': 10,\n",
    "                                       'color': colors['text'],'backgroundColor': colors['sec_background']\n",
    "                                       ,'textAlign':'center','display': 'inline-block'}),\n",
    "    html.Div([\n",
    "        html.Div([\n",
    "            html.Pre(children=\"Select Team\", style={\"fontSize\":\"150%\"}),\n",
    "            dcc.Dropdown(id = 'TeamsDropdown',\n",
    "                    options = [{'label': str(team), 'value': str(team)} for team in Teams], value=\"Arsenal\")\n",
    "                ], className='six columns'),\n",
    "\n",
    "        html.Div([\n",
    "            html.Pre(children=\"Select Season\", style={\"fontSize\": \"150%\"}),\n",
    "            dcc.Dropdown(id = 'SeasonsDropdown',\n",
    "                    options = [{'label': str(season), 'value': str(season)} for season in Seasons], value=\"2019-2020\")\n",
    "                ], className='six columns'),\n",
    "    ], className='row'),\n",
    "    # Div's for Graphs and Text\n",
    "    html.Div(children=[\n",
    "        html.Div([\n",
    "            html.Pre('Team Result during One Season', style={'textAlign':'center',\"fontSize\":\"150%\"}),\n",
    "            dcc.Graph(id = 'resultGraph', figure = {}),\n",
    "        ], className='four columns'),\n",
    "        \n",
    "        html.Div([\n",
    "            html.Pre('Team Goals Scored/Conceded during One Season', style={'textAlign':'center',\"fontSize\":\"150%\"}),\n",
    "            dcc.Graph(id = 'goalsGraph', figure = {}),\n",
    "        ], className='four columns'),\n",
    "        \n",
    "        html.Div([\n",
    "            html.P(id = 'TeamPoints', style={'textAlign':'center'}),\n",
    "            html.P(id = 'GoalScored', style={'textAlign':'center'}),\n",
    "            html.P(id = 'GoalConceded', style={'textAlign':'center'})\n",
    "        ], className='four columns',style = { 'marginTop': 225, 'align-items': 'center',\n",
    "                                             'justify-content': 'center','display': 'inline-block', 'vertical-align': 'middle'})\n",
    "    ], className='row'),\n",
    "    html.H4('© 2021 Mahmoud Eidarous & Mostafa Toema',\n",
    "            style={'width': '40%','height': '20%','border':'1px solid', 'border-radius': 10\n",
    "                   ,'color': colors['text'],'backgroundColor': colors['background']\n",
    "                   ,'textAlign':'center','display': 'inline-block'})\n",
    "    \n",
    "],style={'textAlign':'center'})\n",
    "\n",
    "@app.callback(\n",
    "    Output(\"bar-chart\", \"figure\"), \n",
    "    Output('resultGraph','figure'),\n",
    "    Output('goalsGraph', 'figure'),\n",
    "    Output('TeamPoints','children'),\n",
    "    Output('GoalScored', 'children'),\n",
    "    Output('GoalConceded','children'),\n",
    "    [Input(\"dropdown\", \"value\"),\n",
    "     Input('dropdown2','value'),\n",
    "     Input('TeamsDropdown','value'),\n",
    "     Input('SeasonsDropdown','value')])\n",
    "def update_bar_chart(player,season_e, team, season):\n",
    "    mask = cleaned_merged_seasons[(cleaned_merged_seasons[\"name\"] == player) & (cleaned_merged_seasons[\"season_x\"] == season_e)]\n",
    "    \n",
    "    fig = px.bar(mask, x=\"GW\", y=\"total_points\", color=\"was_home\",text='opp_team_name',\n",
    "                 hover_data=['minutes','selected'],labels={'total_points':'Total Points','GW':'Game Week Number','was_home': 'Home or Away'},\n",
    "                 title=\"Player Fantasy Points Per Game Week\")\n",
    "    fig.update_layout(\n",
    "    title={'text': 'Player Fantasy Points Per Game Week','y':0.9,'x':0.5,\n",
    "            'xanchor': 'center','yanchor': 'top'})\n",
    "    \n",
    "    result_df = all_season[(all_season['Team'] == team) & (all_season['Season'] == season)]\\\n",
    "                           .groupby(['result', 'Home_Away'])[['result']].count().reset_index(level= [1])\n",
    "    \n",
    "    goals_df = all_season[(all_season['Team'] == team) & (all_season['Season'] == season)]\\\n",
    "                           .groupby(['Home_Away'])[['scored','Conceded']].sum()\n",
    "    \n",
    "    result_fig = px.bar(result_df, x = result_df.index, y = 'result', barmode = 'group', color='Home_Away')\n",
    "    \n",
    "    goals_fig = px.bar(goals_df, x =  goals_df.index, y = ['scored', 'Conceded'], barmode = 'group')\n",
    "    \n",
    "    totalPoints = all_season[(all_season['Team'] == team) & (all_season['Season'] == season)]['pts'].sum()\n",
    "    \n",
    "    TeamPoints = 'Total Points of {} in Season {} is {}'.format(team, season, totalPoints)\n",
    "    GoalScored = 'Goal Scored of {} in Season {} is {}'.format(team, season, goals_df['scored'].sum())\n",
    "    GoalConceded = 'Goal Conceded of {} in Season {} is {}'.format(team, season, goals_df['Conceded'].sum())\n",
    "    \n",
    "    return fig,result_fig, goals_fig, TeamPoints, GoalScored, GoalConceded\n",
    "\n"
   ]
  },
  {
   "cell_type": "code",
   "execution_count": 27,
   "metadata": {},
   "outputs": [
    {
     "name": "stdout",
     "output_type": "stream",
     "text": [
      "Dash app running on http://127.0.0.1:8050/\n"
     ]
    }
   ],
   "source": [
    "app.run_server(debug=True)"
   ]
  },
  {
   "cell_type": "code",
   "execution_count": null,
   "metadata": {},
   "outputs": [],
   "source": []
  }
 ],
 "metadata": {
  "kernelspec": {
   "display_name": "Python 3",
   "language": "python",
   "name": "python3"
  },
  "language_info": {
   "codemirror_mode": {
    "name": "ipython",
    "version": 3
   },
   "file_extension": ".py",
   "mimetype": "text/x-python",
   "name": "python",
   "nbconvert_exporter": "python",
   "pygments_lexer": "ipython3",
   "version": "3.8.5"
  }
 },
 "nbformat": 4,
 "nbformat_minor": 4
}
